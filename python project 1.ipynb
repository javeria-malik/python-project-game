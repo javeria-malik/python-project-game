{
 "cells": [
  {
   "cell_type": "code",
   "execution_count": 1,
   "id": "d2df3b61",
   "metadata": {},
   "outputs": [],
   "source": [
    "def sum(a,b,c):\n",
    "    return a+b+c\n",
    "def printBoard(xState,zState):\n",
    "    zero='x'if xState[0] else ('0'if zState[0] else 0)\n",
    "    one='x'if xState[1] else ('0'if zState[1] else 1)\n",
    "    two='x'if xState[2] else ('0'if zState[2] else 2)\n",
    "    three='x'if xState[3] else ('0'if zState[3] else 3)\n",
    "    four='x'if xState[4] else ('0'if zState[4] else 4)\n",
    "    five='x'if xState[5] else ('0'if zState[5] else 5)\n",
    "    six='x'if xState[6] else ('0'if zState[6] else 6)\n",
    "    seven='x'if xState[7] else ('0'if zState[7] else 7)\n",
    "    eight='x'if xState[8] else ('0'if zState[8] else 8)\n",
    "    print(f\" {zero} | {one} .|{two} \")\n",
    "    print(f\"...|..... |....\")\n",
    "    print(f\" {three} | {four} | {five} \")\n",
    "    print(f\".....|..... |....\")\n",
    "    print(f\" {six}  | {seven}|  {eight}\")"
   ]
  },
  {
   "cell_type": "code",
   "execution_count": 5,
   "id": "fa14f3bd",
   "metadata": {},
   "outputs": [
    {
     "name": "stdout",
     "output_type": "stream",
     "text": [
      "welcome to tick tack toe\n",
      " 0 | 1 .|2 \n",
      "...|..... |....\n",
      " 3 | 4 | 5 \n",
      ".....|..... |....\n",
      " 6  | 7|  8\n",
      "X's Chnace\n",
      "please enter your value1\n",
      "x'wins\n",
      "match over\n"
     ]
    }
   ],
   "source": [
    "def checkwin(xState,zState):\n",
    "    wins = [[0,1,2],[3,4,5],[6,7,8],[0,3,6],[1,4,7],[2,5,8],[0,4,8],[2,4,6]]\n",
    "    for win in wins:\n",
    "        if(sum(xState[win[0]],xState[win[0]],xState[win[0]])==3):##\n",
    "            print(\"x'wins\")\n",
    "            return 1\n",
    "        if(sum(zState[win[0]],zState[win[0]],zState[win[0]])==3):##\n",
    "            print(\"0' wins\")\n",
    "            return 0\n",
    "    return -1\n",
    "if __name__ == \"__main__\":\n",
    "    xState=[0,0,0,0,0,0,0,0,0]\n",
    "    zState=[0,0,0,0,0,0,0,0,0]\n",
    "    turn=1#1 for x and 0 for o\n",
    "    print(\"welcome to tick tack toe\")\n",
    "    while(True):\n",
    "        printBoard(xState,zState)\n",
    "        if(turn==1):\n",
    "            print(\"X's Chnace\")\n",
    "            value=int(input(\"please enter your value\"))#should be integer because it will use in index\n",
    "            xState[value]=1\n",
    "        else:\n",
    "            print(\"0's Chnace\")\n",
    "            value=int(input(\"please enter your value\"))\n",
    "            zState[value]=1\n",
    "        cwin = checkwin(xState,zState)\n",
    "        if(cwin != -1):\n",
    "            print(\"match over\")\n",
    "            break\n",
    "        \n",
    "        turn=1-turn"
   ]
  },
  {
   "cell_type": "code",
   "execution_count": null,
   "id": "33573cfd",
   "metadata": {},
   "outputs": [],
   "source": []
  },
  {
   "cell_type": "code",
   "execution_count": null,
   "id": "8074f293",
   "metadata": {},
   "outputs": [],
   "source": []
  }
 ],
 "metadata": {
  "kernelspec": {
   "display_name": "Python 3",
   "language": "python",
   "name": "python3"
  },
  "language_info": {
   "codemirror_mode": {
    "name": "ipython",
    "version": 3
   },
   "file_extension": ".py",
   "mimetype": "text/x-python",
   "name": "python",
   "nbconvert_exporter": "python",
   "pygments_lexer": "ipython3",
   "version": "3.8.8"
  }
 },
 "nbformat": 4,
 "nbformat_minor": 5
}
